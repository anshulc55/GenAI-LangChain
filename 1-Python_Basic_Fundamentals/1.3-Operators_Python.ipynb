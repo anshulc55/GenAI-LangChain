{
 "cells": [
  {
   "cell_type": "markdown",
   "metadata": {},
   "source": [
    "## Operators in Python\n",
    "Operators in Python are special symbols or keywords that perform operations on values and variables. These operations can be arithmetic, comparison, logical etc."
   ]
  },
  {
   "cell_type": "markdown",
   "metadata": {},
   "source": [
    "### Arithmetic Operators\n",
    "Addition, Subtraction, Multiplication, Division, Modulus, Exponentiation, Floor Division\n"
   ]
  },
  {
   "cell_type": "code",
   "execution_count": null,
   "metadata": {},
   "outputs": [],
   "source": [
    "# Arithmetic Operators\n",
    "x = 10\n",
    "y = 3\n",
    "\n",
    "print (x + y)\n",
    "print (x - y)\n",
    "print (x * y)\n",
    "print (x / y)\n",
    "print (x % y)\n",
    "print (x ** y)\n",
    "print (x // y)"
   ]
  },
  {
   "cell_type": "markdown",
   "metadata": {},
   "source": [
    "### Comparison (Relational) Operators\n",
    "Equal, Not Equal, Greater Than, Less Than, Greater Than or Equal, Less Than or Equal"
   ]
  },
  {
   "cell_type": "code",
   "execution_count": null,
   "metadata": {},
   "outputs": [],
   "source": [
    "# Comparison (Relational) Operators\n",
    "\n",
    "a = 10\n",
    "b = 5\n",
    "\n",
    "print( a == b)\n",
    "print( a != b)\n",
    "print( a > b)\n",
    "print( a < b)\n",
    "print( a >= b)\n",
    "print( a <= b)"
   ]
  },
  {
   "cell_type": "markdown",
   "metadata": {},
   "source": [
    "### Assignment Operators\n",
    "Assignment operators are used to assign values to variables.\n"
   ]
  },
  {
   "cell_type": "code",
   "execution_count": null,
   "metadata": {},
   "outputs": [],
   "source": [
    "# Assignment Operators\n",
    "\n",
    "a = 10\n",
    "a += 5 # a = a + 5\n",
    " \n",
    "print(a)"
   ]
  },
  {
   "cell_type": "markdown",
   "metadata": {},
   "source": [
    "### Identity Operators\n",
    "is -- \tReturns True if both variables point to the same object\n",
    "\n",
    "is not\t-- Returns True if both variables point to different objects\n"
   ]
  },
  {
   "cell_type": "code",
   "execution_count": null,
   "metadata": {},
   "outputs": [],
   "source": [
    "a , b = 5, 10\n",
    "x , y = \"james\", \"James\"\n",
    "\n",
    "print(a is b)\n",
    "print(a is not b)\n",
    "print(x is y)\n",
    "print(x is not y)"
   ]
  },
  {
   "cell_type": "markdown",
   "metadata": {},
   "source": [
    "### Membership Operators\n",
    "These operators test for membership in a sequence (like lists, strings, or tuples)\n",
    "like -- in, not in"
   ]
  },
  {
   "cell_type": "code",
   "execution_count": null,
   "metadata": {},
   "outputs": [],
   "source": [
    "# Membership Operators\n",
    "## in - Returns True if the value is found in the sequence\n",
    "## not in - Returns True if the value is not found in the sequence\n",
    "\n",
    "a = \"apple\"\n",
    "b = [1,2,3,4,5]\n",
    "\n",
    "print(\"l\" in {a})\n",
    "print(\"l\" in \"apple\")\n",
    "print( 55 not in b)"
   ]
  },
  {
   "cell_type": "markdown",
   "metadata": {},
   "source": [
    "### Ternary Operator (Conditional Expression)\n",
    "Python provides a shorthand way to write conditional statements using a ternary operator.\n",
    "\n",
    "Syntax : value_if_true if condition else value_if_false"
   ]
  },
  {
   "cell_type": "code",
   "execution_count": null,
   "metadata": {},
   "outputs": [],
   "source": [
    "# Ternary Operator\n",
    "age = 2\n",
    "result = \"Adult\" if age > 18 else \"Minor\"\n",
    "print(result)"
   ]
  },
  {
   "cell_type": "markdown",
   "metadata": {},
   "source": [
    "### Conclusion\n",
    "Python operators allow you to perform operations on variables and values. They include arithmetic, comparison, logical, bitwise, assignment, identity, and membership operators. Understanding operator precedence and usage is essential for writing clean, efficient code."
   ]
  }
 ],
 "metadata": {
  "kernelspec": {
   "display_name": "myenv",
   "language": "python",
   "name": "python3"
  },
  "language_info": {
   "codemirror_mode": {
    "name": "ipython",
    "version": 3
   },
   "file_extension": ".py",
   "mimetype": "text/x-python",
   "name": "python",
   "nbconvert_exporter": "python",
   "pygments_lexer": "ipython3",
   "version": "3.11.10"
  }
 },
 "nbformat": 4,
 "nbformat_minor": 2
}
