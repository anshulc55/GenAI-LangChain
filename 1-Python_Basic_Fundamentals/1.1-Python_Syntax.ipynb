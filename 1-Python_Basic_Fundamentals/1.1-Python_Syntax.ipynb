{
 "cells": [
  {
   "cell_type": "markdown",
   "metadata": {},
   "source": [
    "## Introduction to Python: Essential Syntax and Semantics"
   ]
  },
  {
   "cell_type": "markdown",
   "metadata": {},
   "source": [
    "### Single Line Comment"
   ]
  },
  {
   "cell_type": "code",
   "execution_count": 4,
   "metadata": {},
   "outputs": [
    {
     "name": "stdout",
     "output_type": "stream",
     "text": [
      "Hello Team, Welcome to Python Code\n"
     ]
    }
   ],
   "source": [
    "## Basic python print Statement\n",
    "\n",
    "print (\"Hello Team, Welcome to Python Code\")"
   ]
  },
  {
   "cell_type": "markdown",
   "metadata": {},
   "source": [
    "### Multiline Comment "
   ]
  },
  {
   "cell_type": "code",
   "execution_count": 8,
   "metadata": {},
   "outputs": [
    {
     "name": "stdout",
     "output_type": "stream",
     "text": [
      "4\n",
      "2.0\n",
      "2\n"
     ]
    }
   ],
   "source": [
    "'''\n",
    "Here I am performing some basic opeations\n",
    "of mathmetics\n",
    "\n",
    "This is multiline comment...\n",
    "'''\n",
    "\n",
    "\n",
    "print(2*2)\n",
    "\n",
    "print(10/5)\n",
    "\n",
    "print(4-2)"
   ]
  },
  {
   "cell_type": "markdown",
   "metadata": {},
   "source": [
    "### Basic of Syntax"
   ]
  },
  {
   "cell_type": "markdown",
   "metadata": {},
   "source": [
    "Syntax refers to the set of rules that define the structure and format of valid statements in a programming language. In simpler terms, it dictates how you write code—correct combinations of symbols, keywords, and operators."
   ]
  },
  {
   "cell_type": "code",
   "execution_count": 11,
   "metadata": {},
   "outputs": [
    {
     "name": "stdout",
     "output_type": "stream",
     "text": [
      "Hello wolrd\n"
     ]
    }
   ],
   "source": [
    "print(\"Hello wolrd\")"
   ]
  },
  {
   "cell_type": "markdown",
   "metadata": {},
   "source": [
    "#### Case Sensitive"
   ]
  },
  {
   "cell_type": "code",
   "execution_count": 13,
   "metadata": {},
   "outputs": [
    {
     "name": "stdout",
     "output_type": "stream",
     "text": [
      "FaceBook\n",
      "Microsoft\n",
      "Google\n"
     ]
    }
   ],
   "source": [
    "title = \"FaceBook\"\n",
    "Title = \"Microsoft\"\n",
    "titlE = \"Google\"\n",
    "\n",
    "print(title)\n",
    "print(Title)\n",
    "print(titlE)"
   ]
  },
  {
   "cell_type": "markdown",
   "metadata": {},
   "source": [
    "#### Indentation"
   ]
  },
  {
   "cell_type": "markdown",
   "metadata": {},
   "source": [
    "Indentation in Python refers to the spaces or tabs used at the beginning of a line of code to define its hierarchy or grouping. Unlike many other programming languages where braces ({}) are used to indicate code blocks, Python uses indentation to mark blocks of code such as functions, loops, conditionals, and classes."
   ]
  },
  {
   "cell_type": "code",
   "execution_count": 19,
   "metadata": {},
   "outputs": [
    {
     "name": "stdout",
     "output_type": "stream",
     "text": [
      "10\n"
     ]
    }
   ],
   "source": [
    "age=10\n",
    "if age>20:\n",
    "    print(age)\n",
    "    if age<80:\n",
    "        print(age)\n",
    "\n",
    "print(age)"
   ]
  },
  {
   "cell_type": "markdown",
   "metadata": {},
   "source": [
    "### Symentics Basic Understanding"
   ]
  },
  {
   "cell_type": "markdown",
   "metadata": {},
   "source": [
    "#### Variable Assignment"
   ]
  },
  {
   "cell_type": "code",
   "execution_count": 25,
   "metadata": {},
   "outputs": [
    {
     "name": "stdout",
     "output_type": "stream",
     "text": [
      "10\n",
      "Alice\n",
      "<class 'str'>\n",
      "100\n",
      "<class 'int'>\n"
     ]
    }
   ],
   "source": [
    "x=10\n",
    "name=\"Alice\"\n",
    "print(x)\n",
    "print(name)\n",
    "print(type(name))\n",
    "\n",
    "name=100\n",
    "print(name)\n",
    "print(type(name))"
   ]
  },
  {
   "cell_type": "markdown",
   "metadata": {},
   "source": [
    "#### Name Error\n"
   ]
  },
  {
   "cell_type": "code",
   "execution_count": 29,
   "metadata": {},
   "outputs": [
    {
     "name": "stdout",
     "output_type": "stream",
     "text": [
      "100\n"
     ]
    }
   ],
   "source": [
    "a=100\n",
    "print(b)"
   ]
  },
  {
   "cell_type": "markdown",
   "metadata": {},
   "source": [
    "### Common Syntax Errors in Python"
   ]
  },
  {
   "cell_type": "markdown",
   "metadata": {},
   "source": [
    "### Sample Code Example"
   ]
  },
  {
   "cell_type": "code",
   "execution_count": 32,
   "metadata": {},
   "outputs": [
    {
     "name": "stdout",
     "output_type": "stream",
     "text": [
      "Julia has a valid number 10\n"
     ]
    }
   ],
   "source": [
    "# Variable Assignment and Type Inference\n",
    "x=10\n",
    "name=\"Julia\"\n",
    "is_active=True\n",
    "\n",
    "# Correct Syntax: Conditional statement\n",
    "if x > 0:\n",
    "    print(f\"{name} has a valid number {x}\")\n",
    "else:\n",
    "    print(f\"{name} don't have a valid number\")"
   ]
  }
 ],
 "metadata": {
  "kernelspec": {
   "display_name": "myenv",
   "language": "python",
   "name": "python3"
  },
  "language_info": {
   "codemirror_mode": {
    "name": "ipython",
    "version": 3
   },
   "file_extension": ".py",
   "mimetype": "text/x-python",
   "name": "python",
   "nbconvert_exporter": "python",
   "pygments_lexer": "ipython3",
   "version": "3.11.10"
  }
 },
 "nbformat": 4,
 "nbformat_minor": 2
}
