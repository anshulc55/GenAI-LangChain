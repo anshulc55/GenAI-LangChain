{
 "cells": [
  {
   "cell_type": "markdown",
   "metadata": {},
   "source": [
    "## Python Variables"
   ]
  },
  {
   "cell_type": "markdown",
   "metadata": {},
   "source": [
    "### Introduction to Variables\n",
    "A variable in Python is a name that holds a reference to a value or object. You can think of a variable as a container for storing data values."
   ]
  },
  {
   "cell_type": "markdown",
   "metadata": {},
   "source": [
    "### Variable Declaration and Assignment\n",
    "variable_name = value"
   ]
  },
  {
   "cell_type": "code",
   "execution_count": 2,
   "metadata": {},
   "outputs": [
    {
     "name": "stdout",
     "output_type": "stream",
     "text": [
      "100\n",
      "maria\n"
     ]
    }
   ],
   "source": [
    "abc=100\n",
    "print(abc)\n",
    "\n",
    "name = \"maria\"\n",
    "print(name)"
   ]
  },
  {
   "cell_type": "markdown",
   "metadata": {},
   "source": [
    "### Variable Naming Rules"
   ]
  },
  {
   "cell_type": "code",
   "execution_count": 15,
   "metadata": {},
   "outputs": [],
   "source": [
    "\n",
    "'''\n",
    "1. Must start with a letter (a-z, A-Z) or an underscore (_).\n",
    "2. Cannot start with a number.\n",
    "3. Can contain Special Character.\n",
    "4. Cannot use reserved keywords (like if, for, while, etc.).\n",
    "'''\n",
    "\n",
    "Name = \"Juhan\"\n",
    "name = \"Peter\"\n",
    "_name = \"Kristen\"\n",
    "Na_me = \"Bob\""
   ]
  },
  {
   "cell_type": "markdown",
   "metadata": {},
   "source": [
    "### Multiple Assignment"
   ]
  },
  {
   "cell_type": "code",
   "execution_count": 22,
   "metadata": {},
   "outputs": [
    {
     "name": "stdout",
     "output_type": "stream",
     "text": [
      "a values is - 100\n",
      "b values is - Seemar\n",
      "c values is - False\n"
     ]
    }
   ],
   "source": [
    "a, b, c, d = 100, \"Seemar\", False, 1000\n",
    "\n",
    "print(f\"a values is - {a}\")\n",
    "print(f\"b values is - {b}\")\n",
    "print(f\"c values is - {c}\")\n",
    "\n"
   ]
  },
  {
   "cell_type": "markdown",
   "metadata": {},
   "source": [
    "### Variable Scope\n",
    "\n",
    "*Global Variables*: Declared outside functions and accessible everywhere.\n",
    "\n",
    "*Local Variables*: Declared inside functions and accessible only within that function."
   ]
  },
  {
   "cell_type": "code",
   "execution_count": 27,
   "metadata": {},
   "outputs": [
    {
     "name": "stdout",
     "output_type": "stream",
     "text": [
      "value of x is - 10\n",
      "value of y is - 20\n",
      "value of x is - 10\n"
     ]
    }
   ],
   "source": [
    "# Global Variable\n",
    "x = 10\n",
    "\n",
    "# Python function\n",
    "def my_func():\n",
    "    y = 20 # Local Variable\n",
    "    print(f\"value of x is - {x}\")\n",
    "    print(f\"value of y is - {y}\")\n",
    "\n",
    "my_func()\n",
    "print(f\"value of x is - {x}\")\n",
    "# print(f\"value of y is - {y}\")"
   ]
  },
  {
   "cell_type": "markdown",
   "metadata": {},
   "source": [
    "### Best Practices for Variable Names"
   ]
  },
  {
   "cell_type": "markdown",
   "metadata": {},
   "source": [
    "Use meaningful names that describe the purpose of the variable.\n",
    "\n",
    "Follow the snake_case convention for variable names (lowercase letters with underscores).\n",
    "studentname, student_name \n",
    "\n",
    "Avoid single-letter variable names unless they are temporary (e.g., loop variables)."
   ]
  },
  {
   "cell_type": "markdown",
   "metadata": {},
   "source": [
    "### Constants"
   ]
  },
  {
   "cell_type": "code",
   "execution_count": 28,
   "metadata": {},
   "outputs": [],
   "source": [
    "# Constant should have all uppercase\n",
    "\n",
    "PI = 3.14444444\n",
    "G = 9.8"
   ]
  },
  {
   "cell_type": "markdown",
   "metadata": {},
   "source": [
    "### Common Mistakes with Variables"
   ]
  },
  {
   "cell_type": "markdown",
   "metadata": {},
   "source": [
    "### Sample Code Recap"
   ]
  },
  {
   "cell_type": "code",
   "execution_count": 31,
   "metadata": {},
   "outputs": [
    {
     "name": "stdout",
     "output_type": "stream",
     "text": [
      "John is 25 years old and 6.1 feet tall.\n",
      "Maria is 21 years old and 5.8 feet tall.\n",
      "Hi there!\n",
      "Hello, World!\n"
     ]
    }
   ],
   "source": [
    "# Variable assignment and type inference\n",
    "name = \"John\"\n",
    "age = 25\n",
    "height = 6.1\n",
    "\n",
    "# Printing variable values\n",
    "print(f\"{name} is {age} years old and {height} feet tall.\")\n",
    "\n",
    "# Multiple assignment\n",
    "name , age, height = \"Maria\", 21, 5.8\n",
    "print(f\"{name} is {age} years old and {height} feet tall.\")\n",
    "\n",
    "# Global vs. Local variables\n",
    "greeting = \"Hello, World!\"  # Global variable\n",
    "\n",
    "def say_hello():\n",
    "    local_message = \"Hi there!\"  # Local variable\n",
    "    print(local_message)\n",
    "\n",
    "say_hello()\n",
    "print(greeting)\n"
   ]
  }
 ],
 "metadata": {
  "kernelspec": {
   "display_name": "myenv",
   "language": "python",
   "name": "python3"
  },
  "language_info": {
   "codemirror_mode": {
    "name": "ipython",
    "version": 3
   },
   "file_extension": ".py",
   "mimetype": "text/x-python",
   "name": "python",
   "nbconvert_exporter": "python",
   "pygments_lexer": "ipython3",
   "version": "3.11.10"
  }
 },
 "nbformat": 4,
 "nbformat_minor": 2
}
