{
 "cells": [
  {
   "cell_type": "markdown",
   "metadata": {},
   "source": [
    "## Conditional statements\n",
    "\n",
    "Conditional statements in Python allow you to make decisions based on certain conditions.\n",
    "\n",
    "They control the flow of the program by executing different blocks of code depending on whether a condition is true or false. "
   ]
  },
  {
   "cell_type": "markdown",
   "metadata": {},
   "source": [
    "### Syntax of Conditional Statements\n",
    "\n",
    "if condition:\n",
    "\n",
    "    # Code to execute if the condition is true\n",
    "\n",
    "elif another_condition:\n",
    "\n",
    "    # Code to execute if the first condition is false, but this one is true\n",
    "\n",
    "else:\n",
    "\n",
    "    # Code to execute if all the above conditions are false\n"
   ]
  },
  {
   "cell_type": "markdown",
   "metadata": {},
   "source": [
    "### if-else"
   ]
  },
  {
   "cell_type": "code",
   "execution_count": null,
   "metadata": {},
   "outputs": [],
   "source": [
    "age = 20\n",
    "\n",
    "if age > 18:\n",
    "    print(\"You are Adult\")\n",
    "else:\n",
    "    print(\"You are Minor\")"
   ]
  },
  {
   "cell_type": "markdown",
   "metadata": {},
   "source": [
    "### if-elif-else"
   ]
  },
  {
   "cell_type": "code",
   "execution_count": null,
   "metadata": {},
   "outputs": [],
   "source": [
    "score = 59\n",
    "\n",
    "if score > 90:\n",
    "    print(\"Grade: A\")\n",
    "elif score > 80 :\n",
    "    print(\"Grade: B\")\n",
    "elif score > 70 :\n",
    "    print(\"Grade: c\")\n",
    "elif score > 60 :\n",
    "    print(\"Grade: D\")\n",
    "else:\n",
    "    print(\"Failed !! Do better next time\")\n"
   ]
  },
  {
   "cell_type": "markdown",
   "metadata": {},
   "source": [
    "### Nested Conditional Statements"
   ]
  },
  {
   "cell_type": "code",
   "execution_count": 10,
   "metadata": {},
   "outputs": [
    {
     "name": "stdout",
     "output_type": "stream",
     "text": [
      "You are minor, and not allowed to have the Driving License!!!\n"
     ]
    }
   ],
   "source": [
    "age = 17\n",
    "has_license = False\n",
    "\n",
    "if age >= 18:\n",
    "    print (\"You are Adult!\")\n",
    "\n",
    "    if has_license:\n",
    "        print(\"You can Drive...\")\n",
    "    else:\n",
    "        print(\"You need a License to Drive...\")\n",
    "else:\n",
    "    print(\"You are minor, and not allowed to have the Driving License!!!\")"
   ]
  }
 ],
 "metadata": {
  "kernelspec": {
   "display_name": "myenv",
   "language": "python",
   "name": "python3"
  },
  "language_info": {
   "codemirror_mode": {
    "name": "ipython",
    "version": 3
   },
   "file_extension": ".py",
   "mimetype": "text/x-python",
   "name": "python",
   "nbconvert_exporter": "python",
   "pygments_lexer": "ipython3",
   "version": "3.11.10"
  }
 },
 "nbformat": 4,
 "nbformat_minor": 2
}
