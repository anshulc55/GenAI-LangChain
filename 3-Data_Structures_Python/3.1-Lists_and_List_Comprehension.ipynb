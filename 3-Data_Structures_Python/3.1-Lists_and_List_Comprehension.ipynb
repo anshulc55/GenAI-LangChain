{
 "cells": [
  {
   "cell_type": "markdown",
   "metadata": {},
   "source": [
    "## Lists and List Comprehension in Python\n",
    "\n",
    "Lists are commonly used data structures in Python. They allow you to store an ordered collection of items, which can be of different types, including numbers, strings, and even other lists.\n",
    "\n",
    "__Key Features of Lists:__\n",
    "\n",
    "*Ordered*: The items in a list maintain the order in which they are added.\n",
    "\n",
    "*Mutable*: You can change the contents of a list after its creation.\n",
    "\n",
    "*Heterogeneous*: Lists can contain elements of different data types.\n"
   ]
  },
  {
   "cell_type": "markdown",
   "metadata": {},
   "source": [
    "### Creating Lists\n",
    "You can create a list by enclosing elements in square brackets [], separated by commas."
   ]
  },
  {
   "cell_type": "markdown",
   "metadata": {},
   "source": [
    "### Accessing List Elements\n",
    "You can access elements in a list using indexing. Python uses zero-based indexing, meaning the first element has an index of 0."
   ]
  },
  {
   "cell_type": "markdown",
   "metadata": {},
   "source": [
    "### Modifying List Elements\n",
    "Lists are mutable, which means you can change their contents."
   ]
  },
  {
   "cell_type": "markdown",
   "metadata": {},
   "source": [
    "### List Methods\n",
    "Python provides several built-in methods for manipulating lists.\n",
    "\n",
    "__Common List Methods:__\n",
    "\n",
    "append(): Adds an item to the end of the list.\n",
    "\n",
    "insert(): Inserts an item at a specified index.\n",
    "\n",
    "remove(): Removes the first occurrence of an item.\n",
    "\n",
    "pop(): Removes and returns the last item (or the item at a specified index).\n",
    "\n",
    "index(): Returns the index of the first occurrence of an item.\n",
    "\n",
    "count(): Returns the number of occurrences of an item.\n",
    "\n",
    "sort(): Sorts the list in ascending order.\n",
    "\n",
    "reverse(): Reverses the order of the list.\n",
    "\n",
    "clear(): Removes all items from the list."
   ]
  },
  {
   "cell_type": "markdown",
   "metadata": {},
   "source": [
    "### Slicing Lists\n",
    "Slicing allows you to extract a portion of a list.\n",
    "\n"
   ]
  },
  {
   "cell_type": "markdown",
   "metadata": {},
   "source": [
    "### Iterating Over Lists\n",
    "You can iterate over lists using loops."
   ]
  },
  {
   "cell_type": "markdown",
   "metadata": {},
   "source": [
    "### List Comprehensions\n",
    "List comprehensions provide a concise way to create lists.\n",
    "\n",
    "Syntax:\n",
    "\n",
    "Basic: [expression for item in iterable]\n",
    "\n",
    "With condition: [expression for item in iterable if condition]\n",
    "\n",
    "Nested: [expression for item1 in iterable1 for item2 in iterable2]\n"
   ]
  },
  {
   "cell_type": "markdown",
   "metadata": {},
   "source": [
    "### Nested Lists\n",
    "Lists can contain other lists, allowing for the creation of complex data structures like matrices."
   ]
  }
 ],
 "metadata": {
  "kernelspec": {
   "display_name": "myenv",
   "language": "python",
   "name": "python3"
  },
  "language_info": {
   "name": "python",
   "version": "3.11.10"
  }
 },
 "nbformat": 4,
 "nbformat_minor": 2
}
